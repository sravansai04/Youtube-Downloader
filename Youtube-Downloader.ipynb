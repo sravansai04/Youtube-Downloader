{
 "cells": [
  {
   "cell_type": "markdown",
   "metadata": {},
   "source": [
    "<html>\n",
    "    <h1><center>Youtube Dowloader"
   ]
  },
  {
   "cell_type": "markdown",
   "metadata": {},
   "source": [
    "## Importing Required Libraries"
   ]
  },
  {
   "cell_type": "code",
   "execution_count": 4,
   "metadata": {},
   "outputs": [],
   "source": [
    "import tkinter as tk\n",
    "from tkinter import *\n",
    "from tkinter import messagebox, filedialog\n",
    "from pytube import YouTube\n",
    "import os"
   ]
  },
  {
   "cell_type": "markdown",
   "metadata": {},
   "source": [
    "## Creating Widgets"
   ]
  },
  {
   "cell_type": "code",
   "execution_count": 6,
   "metadata": {},
   "outputs": [],
   "source": [
    "# Defining CreateWidgets() function to create necessary tkinter widgets\n",
    "def CreateWidgets():\n",
    "    linkLabel = Label(root, text=\"YOUTUBE LINK  :\", bg=\"cornsilk4\")\n",
    "    linkLabel.grid(row=1, column=0, pady=5, padx=5)\n",
    "\n",
    "    root.linkText = Entry(root, width=55, textvariable=videoLink)\n",
    "    root.linkText.grid(row=1, column=1, pady=5, padx=5, columnspan = 2)\n",
    "\n",
    "    destinationLabel = Label(root, text=\"DESTINATION    :\", bg=\"cornsilk4\")\n",
    "    destinationLabel.grid(row=2, column=0, pady=5, padx=5)\n",
    "\n",
    "    root.destinationText = Entry(root, width=38, textvariable=downloadPath)\n",
    "    root.destinationText.grid(row=2, column=1, pady=5, padx=5)\n",
    "\n",
    "    browseButton = Button(root, text=\"BROWSE\", command=Browse, width=15)\n",
    "    browseButton.grid(row=2, column=2, pady=5, padx=5)\n",
    "\n",
    "    dwldButton = Button(root, text=\"DOWNLOAD VIDEO\", command=Download, width=30)\n",
    "    dwldButton.grid(row=3, column=1, pady=5, padx=5)\n"
   ]
  },
  {
   "cell_type": "markdown",
   "metadata": {},
   "source": [
    "## Browse Directory"
   ]
  },
  {
   "cell_type": "code",
   "execution_count": 39,
   "metadata": {},
   "outputs": [],
   "source": [
    "# Defining Browse() to select a destination folder to save the audio file\n",
    "def Browse():\n",
    "    #os.getcwd is used to get the current directory\n",
    "    #os.chdir('Set Your Directory')  by this you can change your directory \n",
    "    #if we are not providing any directory it automatically download the video in the current directory\n",
    "    dwldDirectory = filedialog.askdirectory(initialdir=os.getcwd())\n",
    "    #print(dwldDirectory)\n",
    "    downloadPath.set(dwldDirectory)"
   ]
  },
  {
   "cell_type": "markdown",
   "metadata": {},
   "source": [
    "## Code To Dowload Video"
   ]
  },
  {
   "cell_type": "code",
   "execution_count": 40,
   "metadata": {},
   "outputs": [],
   "source": [
    "# Defining Download() to download the video as audio file\n",
    "def Download():\n",
    "    # Fetching the user-input Youtube Link and storing it in yt_link variable\n",
    "    yt_link = videoLink.get()\n",
    "    # Fetching the Destination Directory and storing it in dwldFolder variable\n",
    "    dwldFolder = downloadPath.get()\n",
    "    #dowloading the video with highest quality\n",
    "    try:\n",
    "        #object creation using YouTube which was imported in the beginning\n",
    "        video= YouTube(yt_link)\n",
    "    except:\n",
    "        messagebox.showinfo(\"Un-Success\",\"Enter The Valid Link\")\n",
    "    youtube=video.streams.first()\n",
    "    try: \n",
    "        #downloading the video \n",
    "        youtube.download(dwldFolder)\n",
    "        messagebox.showinfo(\"SUCCESS\", \"VIDEO IS DOWNLOADED \")\n",
    "    except:\n",
    "        messagebox.showinfo(\"Something Went Wrong\")\n",
    "    \n",
    "    "
   ]
  },
  {
   "cell_type": "markdown",
   "metadata": {},
   "source": [
    "## Creating Required Objects and Calling Functions"
   ]
  },
  {
   "cell_type": "code",
   "execution_count": 38,
   "metadata": {},
   "outputs": [],
   "source": [
    "# Creating object of tk class\n",
    "root = tk.Tk()\n",
    "\n",
    "# Setting the title, background color and size of the tkinter window and disabling the\n",
    "# resizing property\n",
    "root.geometry(\"650x120\")\n",
    "root.resizable(False, False)\n",
    "root.title(\"Youtube Dowloader\")\n",
    "root.config(background=\"cornsilk4\")\n",
    "\n",
    "# Creating the tkinter Variables\n",
    "videoLink = StringVar()\n",
    "downloadPath = StringVar()\n",
    "\n",
    "# Calling the CreateWidgets() function\n",
    "CreateWidgets()\n",
    "# Defining infinite loop to run application\n",
    "root.mainloop()"
   ]
  }
 ],
 "metadata": {
  "kernelspec": {
   "display_name": "Python 3",
   "language": "python",
   "name": "python3"
  },
  "language_info": {
   "codemirror_mode": {
    "name": "ipython",
    "version": 3
   },
   "file_extension": ".py",
   "mimetype": "text/x-python",
   "name": "python",
   "nbconvert_exporter": "python",
   "pygments_lexer": "ipython3",
   "version": "3.7.4"
  }
 },
 "nbformat": 4,
 "nbformat_minor": 2
}
